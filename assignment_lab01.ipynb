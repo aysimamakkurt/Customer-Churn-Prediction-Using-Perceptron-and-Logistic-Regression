{
 "cells": [
  {
   "cell_type": "markdown",
   "metadata": {},
   "source": [
    "##  Classification of Stayed/Churned Customers"
   ]
  },
  {
   "cell_type": "markdown",
   "metadata": {},
   "source": [
    "### Dataset description\n",
    "\n",
    "The Customer Churn table contains information on all 3,757 customers from a Telecommunications company in California in Q2 2022. \n",
    "The dataset contains three features:\n",
    "- **Tenure in Months**: Number of months the customer has stayed with the company\n",
    "- **Monthly Charge**: The amount charged to the customer monthly\n",
    "- **Age**: Customer's age\n",
    "\n",
    "The aim of the task is to predict if a customer will churn or not based on the three features.\n",
    "\n",
    "<center>\n",
    "\n",
    "![COVER](data/dataset-cover.png \"COVER\")\n",
    "\n",
    "</center>"
   ]
  },
  {
   "cell_type": "markdown",
   "metadata": {},
   "source": [
    "We first **import** all **the packages** that are needed."
   ]
  },
  {
   "cell_type": "code",
   "execution_count": 1,
   "metadata": {},
   "outputs": [],
   "source": [
    "import pandas as pd\n",
    "from matplotlib import pyplot as plt\n",
    "import numpy as np\n",
    "from sklearn import linear_model, preprocessing"
   ]
  },
  {
   "cell_type": "markdown",
   "metadata": {},
   "source": [
    "Change some global settings for layout purposes."
   ]
  },
  {
   "cell_type": "code",
   "execution_count": 2,
   "metadata": {},
   "outputs": [],
   "source": [
    "# if you are in the jupyter notebook environment you can change the 'inline' option with 'notebook' to get interactive plots\n",
    "%matplotlib notebook\n",
    "# change the limit on the line length and crop to 0 very small numbers, for clearer printing\n",
    "np.set_printoptions(linewidth=500, suppress=True)"
   ]
  },
  {
   "cell_type": "markdown",
   "metadata": {},
   "source": [
    "## A) Perceptron\n",
    "In the following cells we will **implement** the **perceptron** algorithm and use it to learn a halfspace."
   ]
  },
  {
   "cell_type": "markdown",
   "metadata": {},
   "source": [
    "**TO DO (A.0):** **Set** the random **seed** using your **ID**. If you need to change it for testing add a constant explicitly, eg.: 1234567 + 1"
   ]
  },
  {
   "cell_type": "code",
   "execution_count": 3,
   "metadata": {},
   "outputs": [],
   "source": [
    "IDnumber = 1234 # YOUR_ID\n",
    "np.random.seed(IDnumber)"
   ]
  },
  {
   "cell_type": "markdown",
   "metadata": {},
   "source": [
    "### The Dataset\n",
    "The dataset is a `.csv` file containing three input features and a label. Here is an example of the first 4 rows of the dataset: \n",
    "\n",
    "<center>\n",
    "\n",
    "Tenure in Months | Monthly Charge | Age | Customer Status |\n",
    "| -----------------| ---------------|-----|-----------------|\n",
    "| 9 | 65.6 | 37 | 0 |\n",
    "| 9 | -4.0 | 46 | 0 |\n",
    "| 4 | 73.9 | 50 | 1 |\n",
    "| ... | ... | ... | ... |\n",
    "\n",
    "</center>\n",
    "\n",
    "Customer Status is 0 if the customer has stayed with the company and 1 if the customer has churned."
   ]
  },
  {
   "cell_type": "code",
   "execution_count": 4,
   "metadata": {},
   "outputs": [],
   "source": [
    "def load_dataset(filename):\n",
    "    data_train = pd.read_csv(filename)\n",
    "    #permute the data\n",
    "    data_train = data_train.sample(frac=1).reset_index(drop=True) # shuffle the data\n",
    "    X = data_train.iloc[:, 0:3].values # Get first two columns as the input\n",
    "    Y = data_train.iloc[:, 3].values # Get the third column as the label\n",
    "    Y = 2*Y-1 # Make sure labels are -1 or 1 (0 --> -1, 1 --> 1)\n",
    "    return X,Y"
   ]
  },
  {
   "cell_type": "code",
   "execution_count": 5,
   "metadata": {},
   "outputs": [],
   "source": [
    "# Load the dataset\n",
    "X, Y = load_dataset('data/telecom_customer_churn_cleaned.csv')"
   ]
  },
  {
   "cell_type": "markdown",
   "metadata": {},
   "source": [
    "We are going to differentiate (classify) between **class \"1\" (churned)** and **class \"-1\" (stayed)**"
   ]
  },
  {
   "cell_type": "code",
   "execution_count": 6,
   "metadata": {},
   "outputs": [
    {
     "name": "stdout",
     "output_type": "stream",
     "text": [
      "Number of samples in the train set: 2817\n",
      "Number of samples in the test set: 940\n",
      "\n",
      "Number of night instances in test: 470\n",
      "Number of day instances in test: 470\n",
      "Mean of the training input data: [0. 0. 0.]\n",
      "Std of the training input data: [1. 1. 1.]\n",
      "Mean of the test input data: [-0.03859173 -0.01057507  0.05557416]\n",
      "Std of the test input data: [0.96338446 0.99562818 1.0407794 ]\n"
     ]
    }
   ],
   "source": [
    "# compute the splits\n",
    "m_training = int(X.shape[0] * 0.75) \n",
    "\n",
    "# m_test is the number of samples in the test set (total-training)\n",
    "m_test = X.shape[0] - m_training \n",
    "\n",
    "# X_training = instances for training set\n",
    "X_training = X[:m_training,:] \n",
    "# Y_training = labels for the training set\n",
    "Y_training = Y[:m_training, ] \n",
    "\n",
    "# X_test = instances for test set\n",
    "X_test = X[m_training:, :]  \n",
    "# Y_test = labels for the test set\n",
    "Y_test = Y[m_training:,] \n",
    "\n",
    "print(\"Number of samples in the train set:\", X_training.shape[0])\n",
    "print(\"Number of samples in the test set:\", X_test.shape[0])\n",
    "print(\"\\nNumber of night instances in test:\", np.sum(Y_test==-1))\n",
    "print(\"Number of day instances in test:\", np.sum(Y_test==1))\n",
    "\n",
    "# standardize the input matrix\n",
    "# the transformation is computed on training data and then used on all the 3 sets\n",
    "scaler = preprocessing.StandardScaler().fit(X_training) \n",
    "\n",
    "np.set_printoptions(suppress=True) # sets to zero floating point numbers < min_float_eps\n",
    "X_training = scaler.transform(X_training) \n",
    "print (\"Mean of the training input data:\", X_training.mean(axis=0))\n",
    "print (\"Std of the training input data:\",X_training.std(axis=0))\n",
    "\n",
    "X_test = scaler.transform(X_test) \n",
    "print (\"Mean of the test input data:\", X_test.mean(axis=0))\n",
    "print (\"Std of the test input data:\", X_test.std(axis=0))"
   ]
  },
  {
   "cell_type": "code",
   "execution_count": 7,
   "metadata": {},
   "outputs": [],
   "source": [
    "def to_homogeneous(X_training, X_test):\n",
    "    # Add a 1 to each sample (homogeneous coordinates)\n",
    "    X_training = np.hstack( [np.ones( (X_training.shape[0], 1) ), X_training] )\n",
    "    X_test = np.hstack( [np.ones( (X_test.shape[0], 1) ), X_test] )\n",
    "    \n",
    "    return X_training, X_test"
   ]
  },
  {
   "cell_type": "code",
   "execution_count": 8,
   "metadata": {},
   "outputs": [
    {
     "name": "stdout",
     "output_type": "stream",
     "text": [
      "Training set in homogeneous coordinates:\n",
      "[[ 1.         -0.85681595  1.18553248 -0.90686994]\n",
      " [ 1.          1.33620809  1.44214767 -0.31393676]\n",
      " [ 1.          1.74998621  0.79394438 -0.01747016]\n",
      " [ 1.         -1.06370501  0.03742948  0.21970311]\n",
      " [ 1.         -0.11201533  0.25571902  1.93920935]\n",
      " [ 1.          1.50171934 -2.48373139 -0.25464344]\n",
      " [ 1.          1.29483028  0.88559266 -0.07676348]\n",
      " [ 1.          1.74998621 -1.47393398 -1.26262985]\n",
      " [ 1.         -0.73268252  0.47234223 -0.19535012]\n",
      " [ 1.          0.6741631  -1.43560833  0.45687638]]\n"
     ]
    }
   ],
   "source": [
    "# convert to homogeneous coordinates using the function above\n",
    "X_training, X_test = to_homogeneous(X_training, X_test)\n",
    "print(\"Training set in homogeneous coordinates:\")\n",
    "print(X_training[:10])"
   ]
  },
  {
   "cell_type": "code",
   "execution_count": 9,
   "metadata": {},
   "outputs": [],
   "source": [
    "def count_errors(current_w, X, Y):\n",
    "    # This function:\n",
    "    # computes the number of misclassified samples\n",
    "    # returns the index of the first misclassified samples\n",
    "    # if there are no misclassified samples, returns -1 as index\n",
    "    products = list()\n",
    "    for i in range(len(X)):\n",
    "        a = np.dot(current_w.T,np.dot(X[i],Y[i]))\n",
    "        products.append(a)\n",
    "        \n",
    "    pred = np.sign(products)\n",
    "    wrong = np.array([True if i<=0 else False for i in pred])\n",
    "    num_misclassified = wrong.sum()\n",
    "    \n",
    "    if num_misclassified > 0:\n",
    "        index_misclassified = np.where(wrong)[0][0]\n",
    "\n",
    "    else:\n",
    "        index_misclassified = -1# signaling value for termination\n",
    "    \n",
    "    return num_misclassified, index_misclassified\n",
    "\n",
    "\n",
    "        \n",
    "def perceptron_update(current_w, x, y):\n",
    "    # Place in this function the update rule of the perceptron algorithm\n",
    "    # Remember that numpy arrays can be treated as generalized variables\n",
    "    # therefore given array a = [1,2,3,4], the operation b = 10*a will yield\n",
    "    # b = [10, 20, 30, 40]\n",
    "    for i in range(len(x)):\n",
    "        a = np.dot(current_w.T,np.dot(x[i],y[i]))\n",
    "\n",
    "\n",
    "        if a <= 0:\n",
    "            current_w = current_w+(x[i]*y[i])\n",
    "\n",
    "    \n",
    "    new_w = current_w\n",
    "\n",
    "    return new_w\n",
    "    \n",
    "\n",
    "def perceptron_no_randomization(X, Y, max_num_iterations):\n",
    "    \n",
    "    # Initialize some support variables\n",
    "    num_samples = X.shape[0]\n",
    "    # best_errors will keep track of the best (minimum) number of errors\n",
    "    # seen throughout training, used for the update of the best_w variable\n",
    "    best_error = num_samples+1\n",
    "    \n",
    "    # Initialize the weights of the algorith with w=0\n",
    "    curr_w =np.zeros(X.shape[1]) # ADD YOUR CODE HERE\n",
    "    # The best_w variable will be used to keep track of the best solution\n",
    "    best_w = curr_w.copy()\n",
    "\n",
    "    # compute the number of misclassified samples and the index of the first of them\n",
    "    num_misclassified, index_misclassified = count_errors(curr_w, X, Y)\n",
    "    # update the 'best' variables\n",
    "    if num_misclassified < best_error:\n",
    "        best_error = num_misclassified# ADD YOUR CODE HERE\n",
    "        best_w = curr_w# ADD YOUR CODE HERE\n",
    "    \n",
    "    # initialize the number of iterations\n",
    "    num_iter = 0\n",
    "    # Main loop continue until all samples correctly classified or max # iterations reached\n",
    "    # Remember that to signify that no errors were found we set index_misclassified = -1\n",
    "    while index_misclassified != -1 and num_iter < max_num_iterations:\n",
    "\n",
    "        curr_w = perceptron_update(curr_w,X,Y)\n",
    "\n",
    "    \n",
    "        per = np.random.permutation(len(X))\n",
    "        X = X[per]\n",
    "        Y = Y[per]\n",
    "        \n",
    "        # repeat the error count and best variables update\n",
    "        num_misclassified, index_misclassified = count_errors(curr_w, X, Y)\n",
    "        # update the 'best' variables\n",
    "        if num_misclassified < best_error:\n",
    "            best_error = num_misclassified \n",
    "            best_w = curr_w \n",
    "        #print(num_misclassified)\n",
    "        # update the iteration number\n",
    "        num_iter += 1\n",
    "        \n",
    "\n",
    "        # Choose the misclassified sample with the lowest index at each iteration\n",
    "\n",
    "    # as required, return the best error as a ratio with respect to the total number of samples\n",
    "    best_error =  (best_error / len(X)) * 100 # ADD YOUR CODE HERE\n",
    "    \n",
    "    return best_w, best_error"
   ]
  },
  {
   "cell_type": "code",
   "execution_count": 10,
   "metadata": {},
   "outputs": [
    {
     "name": "stdout",
     "output_type": "stream",
     "text": [
      "Training Error of perceptron (30 iterations): 26.020589279375223\n"
     ]
    }
   ],
   "source": [
    "# Now run the perceptron for 30 iterations\n",
    "w_found, error = perceptron_no_randomization(X_training,Y_training, 30)\n",
    "print(\"Training Error of perceptron (30 iterations): \" + str(error))"
   ]
  },
  {
   "cell_type": "code",
   "execution_count": 11,
   "metadata": {},
   "outputs": [
    {
     "name": "stdout",
     "output_type": "stream",
     "text": [
      "Test Error of perceptron (30 iterations): 24.04255319148936\n"
     ]
    }
   ],
   "source": [
    "errors, _ = count_errors(w_found, X_test,Y_test)\n",
    "\n",
    "true_loss_estimate = (errors / len(X_test))*100     # Error rate on the test set\n",
    "# NOTE: you can avoid using num_errors if you prefer, as long as true_loss_estimate is correct\n",
    "print(\"Test Error of perceptron (30 iterations): \" + str(true_loss_estimate))"
   ]
  },
  {
   "cell_type": "code",
   "execution_count": 12,
   "metadata": {},
   "outputs": [],
   "source": [
    "def perceptron(X, Y, max_num_iterations):\n",
    "    # Use the previous function as a template to \n",
    "    # implement the random version of the perceptron algorithm\n",
    "    # Initialize some support variables\n",
    "    num_samples = X.shape[0]\n",
    "    # best_errors will keep track of the best (minimum) number of errors\n",
    "    # seen throughout training, used for the update of the best_w variable\n",
    "    best_error = num_samples+1\n",
    "    \n",
    "    # Initialize the weights of the algorith with w=0\n",
    "    curr_w =np.zeros(X.shape[1])\n",
    "    # The best_w variable will be used to keep track of the best solution\n",
    "    best_w = curr_w.copy()\n",
    "\n",
    "    # compute the number of misclassified samples and the index of the first of them\n",
    "    num_misclassified, index_misclassified = count_errors(curr_w, X, Y)\n",
    "    # update the 'best' variables\n",
    "    if num_misclassified < best_error:\n",
    "        best_error = num_misclassified\n",
    "        best_w = curr_w\n",
    "    \n",
    "    \n",
    "    num_iter = 0\n",
    "   \n",
    "    while index_misclassified != -1 and num_iter < max_num_iterations:\n",
    "        \n",
    "        curr_w = perceptron_update(curr_w,X,Y)\n",
    "\n",
    "        num_misclassified, index_misclassified = count_errors(curr_w, X, Y)\n",
    "        # update the 'best' variables\n",
    "        if num_misclassified < best_error:\n",
    "            best_error = num_misclassified \n",
    "            best_w = curr_w \n",
    "        #print(num_misclassified)\n",
    "        # update the iteration number\n",
    "        num_iter += 1\n",
    "        \n",
    "\n",
    "        # Choose the misclassified sample with the lowest index at each iteration\n",
    "\n",
    "    # as required, return the best error as a ratio with respect to the total number of samples\n",
    "    best_error =  (best_error / len(X)) * 100 \n",
    "    \n",
    "    return best_w, best_error"
   ]
  },
  {
   "cell_type": "code",
   "execution_count": 13,
   "metadata": {},
   "outputs": [
    {
     "name": "stdout",
     "output_type": "stream",
     "text": [
      "Training Error of perceptron (30 iterations): 29.996450124245648\n",
      "Test Error of perceptron (30 iterations): 0.31170212765957445\n"
     ]
    }
   ],
   "source": [
    "# Now run the perceptron for 30 iterations\n",
    "w_found, error = perceptron(X_training,Y_training, 30)\n",
    "print(\"Training Error of perceptron (30 iterations): \" + str(error))\n",
    "\n",
    "errors, _ = count_errors(w_found, X_test,Y_test)\n",
    "\n",
    "true_loss_estimate = (errors / len(X_test))    # Error rate on the test set\n",
    "# NOTE: you can avoid using num_errors if you prefer, as long as true_loss_estimate is correct\n",
    "print(\"Test Error of perceptron (30 iterations): \" + str(true_loss_estimate))"
   ]
  },
  {
   "cell_type": "code",
   "execution_count": 15,
   "metadata": {},
   "outputs": [
    {
     "data": {
      "image/png": "[encoded data removed]",
      "text/plain": [
       "<Figure size 800x400 with 1 Axes>"
      ]
     },
     "metadata": {},
     "output_type": "display_data"
    }
   ],
   "source": [
    "# Plot the loss with respect to the number of iterations\n",
    "%matplotlib inline\n",
    "plt.figure(figsize=(8,4))\n",
    "\n",
    "num_iters = np.arange(0, 1001, 20)\n",
    "errors = []\n",
    "\n",
    "for num_iter in num_iters:\n",
    "    _, error = perceptron(X_training, Y_training, num_iter)\n",
    "    errors.append(error)\n",
    "\n",
    "plt.plot(num_iters, errors)\n",
    "plt.xlabel('Number of iterations')\n",
    "plt.ylabel('Training error')\n",
    "plt.grid()\n",
    "plt.show()\n",
    "\n",
    "# NOTE how the training loss decreases as we increase the number of iterations"
   ]
  },
  {
   "cell_type": "code",
   "execution_count": 16,
   "metadata": {
    "scrolled": true
   },
   "outputs": [
    {
     "name": "stdout",
     "output_type": "stream",
     "text": [
      "Training Error of perceptron (3000 iterations): 28.328008519701807\n",
      "Test Error of perceptron (3000 iterations): 0.3\n"
     ]
    }
   ],
   "source": [
    "w_found, error = perceptron(X_training,Y_training, 3000)  \n",
    "print(\"Training Error of perceptron (3000 iterations): \" + str(error))\n",
    "\n",
    "num_errors, _ = count_errors(w_found, X_test,Y_test) \n",
    "\n",
    "true_loss_estimate = (num_errors / len(X_test))  \n",
    "print(\"Test Error of perceptron (3000 iterations): \" + str(true_loss_estimate))"
   ]
  },
  {
   "cell_type": "code",
   "execution_count": 17,
   "metadata": {},
   "outputs": [
    {
     "name": "stdout",
     "output_type": "stream",
     "text": [
      "Intercept: [-0.04674437]\n",
      "Coefficients: [[-0.04674437 -1.43821763  0.88923872  0.16852066]]\n",
      "Error rate on training set: 24.600638977635782\n",
      "Error rate on test set: 24.893617021276597\n"
     ]
    }
   ],
   "source": [
    "# part on logistic regression for 2 classes\n",
    "logreg = linear_model.LogisticRegression(C = 1e5) # C should be very large to ignore regularization (see above)\n",
    "\n",
    "# learn from training set: hint use fit(...)\n",
    "\n",
    "logreg.fit(X_training,Y_training)\n",
    "print(\"Intercept:\" , logreg.intercept_)\n",
    "print(\"Coefficients:\" , logreg.coef_)\n",
    "\n",
    "# predict on training set\n",
    "predicted_training = logreg.predict(X_training) \n",
    "\n",
    "# print the error rate = fraction of misclassified samples\n",
    "error_count_training = (predicted_training != Y_training).sum()\n",
    "error_rate_training = (error_count_training / len(X_training)) * 100 \n",
    "print(\"Error rate on training set: \"+str(error_rate_training))\n",
    "\n",
    "# predict on test set\n",
    "predicted_test = logreg.predict(X_test)\n",
    "\n",
    "#print the error rate = fraction of misclassified samples\n",
    "error_count_test = (predicted_test != Y_test).sum()\n",
    "error_rate_test =(error_count_test / len(X_test)) * 100 \n",
    "print(\"Error rate on test set: \" + str(error_rate_test))"
   ]
  },
  {
   "cell_type": "code",
   "execution_count": 18,
   "metadata": {},
   "outputs": [],
   "source": [
    "feature_names  = [\"Tenure in Months\",\"Monthly Charge\",\"Age\"]\n",
    "\n",
    "# Select the two features to use\n",
    "idx0 = 0 \n",
    "idx1 = 1 \n",
    "\n",
    "X_reduced = X[:,[idx0, idx1]]\n",
    "\n",
    "# re-initialize the dataset splits, with the reduced sets\n",
    "X_training = X_reduced[:m_training,:] \n",
    "Y_training = Y[:m_training, ] \n",
    "\n",
    "X_test = X_reduced[m_training:, :] \n",
    "Y_test = Y[m_training:,] "
   ]
  },
  {
   "cell_type": "markdown",
   "metadata": {},
   "source": [
    "Now learn a model using the training data and measure the performances."
   ]
  },
  {
   "cell_type": "code",
   "execution_count": 19,
   "metadata": {},
   "outputs": [
    {
     "name": "stdout",
     "output_type": "stream",
     "text": [
      "Error rate on test set: 25.21276595744681\n"
     ]
    }
   ],
   "source": [
    "# learning from training data\n",
    "# predict on test set\n",
    "logreg.fit(X_training,Y_training)\n",
    "predicted_test = logreg.predict(X_test) \n",
    "\n",
    "#print the error rate = fraction of misclassified samples\n",
    "error_count_test = (predicted_test != Y_test).sum()\n",
    "\n",
    "# print the error rate = fraction of misclassified samples\n",
    "error_rate_test = (error_count_test / len(X_test)) * 100 \n",
    "print(\"Error rate on test set: \" + str(error_rate_test))"
   ]
  },
  {
   "cell_type": "code",
   "execution_count": null,
   "metadata": {},
   "outputs": [],
   "source": []
  }
 ],
 "metadata": {
  "anaconda-cloud": {},
  "kernelspec": {
   "display_name": "Python 3 (ipykernel)",
   "language": "python",
   "name": "python3"
  },
  "language_info": {
   "codemirror_mode": {
    "name": "ipython",
    "version": 3
   },
   "file_extension": ".py",
   "mimetype": "text/x-python",
   "name": "python",
   "nbconvert_exporter": "python",
   "pygments_lexer": "ipython3",
   "version": "3.11.5"
  }
 },
 "nbformat": 4,
 "nbformat_minor": 4
}
